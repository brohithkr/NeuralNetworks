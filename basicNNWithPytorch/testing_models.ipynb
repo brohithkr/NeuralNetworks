{
 "cells": [
  {
   "cell_type": "markdown",
   "metadata": {},
   "source": [
    "# testing different models"
   ]
  },
  {
   "cell_type": "code",
   "execution_count": 1,
   "metadata": {},
   "outputs": [],
   "source": [
    "import torch\n",
    "from torch.utils.data import DataLoader\n",
    "from torch import nn\n",
    "from torchvision import datasets\n",
    "from torchvision.transforms import ToTensor\n",
    "import matplotlib.pyplot as plt\n",
    "\n",
    "import configs\n",
    "\n"
   ]
  },
  {
   "cell_type": "code",
   "execution_count": 14,
   "metadata": {},
   "outputs": [],
   "source": [
    "from configs import device"
   ]
  },
  {
   "cell_type": "code",
   "execution_count": null,
   "metadata": {},
   "outputs": [],
   "source": [
    "test_data = datasets.MNIST(\n",
    "    configs.dataset_path,\n",
    "    download=True,\n",
    "    train=False,\n",
    "    transform=ToTensor(),\n",
    ")\n",
    "test_dataloader = DataLoader(test_data, batch_size=64, shuffle=True, pin_memory=True, pin_memory_device='cuda')"
   ]
  },
  {
   "cell_type": "code",
   "execution_count": 16,
   "metadata": {},
   "outputs": [],
   "source": [
    "\n",
    "def visual_test(model, test_data):\n",
    "    figure = plt.figure(figsize=(8, 8))\n",
    "    cols, rows = 3,3\n",
    "    for i in range(1, cols * rows + 1):\n",
    "        sample_idx = torch.randint(len(test_data), size=(1,)).item()\n",
    "        img, label = test_data[sample_idx]\n",
    "        cuimg = torch.tensor(img).to('cuda')\n",
    "        pred = model(cuimg)\n",
    "        pred_label = pred.argmax(1).item()\n",
    "        figure.add_subplot(rows, cols, i)\n",
    "        plt.title(f\"pred: {pred_label} actual:{label}\")\n",
    "        plt.axis(\"off\")\n",
    "        plt.imshow(img.squeeze(), cmap=\"gray\")\n",
    "    plt.show()\n",
    "\n",
    "def test_loop(dataloader: torch.utils.data.DataLoader, model: torch.nn.Module, loss_fn: torch.nn.Module):\n",
    "    size = len(dataloader.dataset)\n",
    "    num_batches = len(dataloader)\n",
    "    test_loss, correct = 0, 0\n",
    "\n",
    "    model.eval()\n",
    "    with torch.no_grad():\n",
    "        for X, y in dataloader:\n",
    "            X: torch.Tensor = X.to(device)\n",
    "            y: torch.Tensor = y.to(device)\n",
    "            y_pred: torch.Tensor = model(X)\n",
    "            loss = loss_fn(y_pred, y)\n",
    "            test_loss += loss.item()\n",
    "            correct += (y_pred.argmax(1) == y).type(torch.float).sum().item()\n",
    "    test_loss /= num_batches\n",
    "    correct /= size\n",
    "    print(f\"Test Error: \\n Accuracy: {(100*correct):>0.1f}%, Avg loss: {test_loss:>8f} \\n\")\n"
   ]
  },
  {
   "cell_type": "markdown",
   "metadata": {},
   "source": [
    "### Loading saved models for testing"
   ]
  },
  {
   "cell_type": "code",
   "execution_count": 17,
   "metadata": {},
   "outputs": [],
   "source": [
    "# from shallowNeuralNetwork import NeuralNetwork\n",
    "# model: NeuralNetwork = torch.load('./trained_models/shallowNN90%.pth', weights_only=False)\n",
    "from deepNeuralNetwork import NeuralNetwork\n",
    "model: NeuralNetwork = torch.load('./trained_models/deepNN.pth', weights_only=False)\n"
   ]
  },
  {
   "cell_type": "code",
   "execution_count": 18,
   "metadata": {},
   "outputs": [
    {
     "name": "stdout",
     "output_type": "stream",
     "text": [
      "Test Error: \n",
      " Accuracy: 97.1%, Avg loss: 1.490563 \n",
      "\n"
     ]
    }
   ],
   "source": [
    "loss_fn = nn.CrossEntropyLoss()\n",
    "test_loop(test_dataloader, model, loss_fn)"
   ]
  },
  {
   "cell_type": "code",
   "execution_count": 23,
   "metadata": {},
   "outputs": [
    {
     "name": "stderr",
     "output_type": "stream",
     "text": [
      "/tmp/ipykernel_230524/1955792045.py:7: UserWarning: To copy construct from a tensor, it is recommended to use sourceTensor.clone().detach() or sourceTensor.clone().detach().requires_grad_(True), rather than torch.tensor(sourceTensor).\n",
      "  cuimg = torch.tensor(img).to('cuda')\n"
     ]
    },
    {
     "data": {
      "image/png": "[encoded data removed]",
      "text/plain": [
       "<Figure size 800x800 with 9 Axes>"
      ]
     },
     "metadata": {},
     "output_type": "display_data"
    }
   ],
   "source": [
    "visual_test(model, test_data)"
   ]
  },
  {
   "cell_type": "code",
   "execution_count": 21,
   "metadata": {},
   "outputs": [],
   "source": [
    "shallowWeights = list(model.named_parameters())"
   ]
  },
  {
   "cell_type": "markdown",
   "metadata": {},
   "source": [
    "#### Visualising with tensorboard"
   ]
  },
  {
   "cell_type": "code",
   "execution_count": null,
   "metadata": {},
   "outputs": [],
   "source": [
    "import torchvision\n",
    "from torch.utils.tensorboard import SummaryWriter"
   ]
  },
  {
   "cell_type": "code",
   "execution_count": 14,
   "metadata": {},
   "outputs": [],
   "source": [
    "test_dataloader = DataLoader(test_data, batch_size=64, shuffle=True, pin_memory=True, pin_memory_device='cuda')"
   ]
  },
  {
   "cell_type": "code",
   "execution_count": 17,
   "metadata": {},
   "outputs": [
    {
     "ename": "AssertionError",
     "evalue": "size of input tensor and input format are different.         tensor shape: (3, 242, 242), input_format: NCHW",
     "output_type": "error",
     "traceback": [
      "\u001b[31m---------------------------------------------------------------------------\u001b[39m",
      "\u001b[31mAssertionError\u001b[39m                            Traceback (most recent call last)",
      "\u001b[36mCell\u001b[39m\u001b[36m \u001b[39m\u001b[32mIn[17]\u001b[39m\u001b[32m, line 6\u001b[39m\n\u001b[32m      3\u001b[39m images, labels = \u001b[38;5;28mnext\u001b[39m(\u001b[38;5;28miter\u001b[39m(test_dataloader))\n\u001b[32m      5\u001b[39m grid = torchvision.utils.make_grid(images)\n\u001b[32m----> \u001b[39m\u001b[32m6\u001b[39m \u001b[43mwriter\u001b[49m\u001b[43m.\u001b[49m\u001b[43madd_images\u001b[49m\u001b[43m(\u001b[49m\u001b[33;43m'\u001b[39;49m\u001b[33;43mMnist digits:\u001b[39;49m\u001b[33;43m'\u001b[39;49m\u001b[43m,\u001b[49m\u001b[43m \u001b[49m\u001b[43mgrid\u001b[49m\u001b[43m)\u001b[49m\n\u001b[32m      7\u001b[39m writer.flush()\n",
      "\u001b[36mFile \u001b[39m\u001b[32m/mnt/nvme0n1p6/myProjects/neuralNetworks/basicNNWithPytorch/.venv/lib/python3.13/site-packages/torch/utils/tensorboard/writer.py:669\u001b[39m, in \u001b[36mSummaryWriter.add_images\u001b[39m\u001b[34m(self, tag, img_tensor, global_step, walltime, dataformats)\u001b[39m\n\u001b[32m    631\u001b[39m \u001b[38;5;250m\u001b[39m\u001b[33;03m\"\"\"Add batched image data to summary.\u001b[39;00m\n\u001b[32m    632\u001b[39m \n\u001b[32m    633\u001b[39m \u001b[33;03mNote that this requires the ``pillow`` package.\u001b[39;00m\n\u001b[32m   (...)\u001b[39m\u001b[32m    665\u001b[39m \n\u001b[32m    666\u001b[39m \u001b[33;03m\"\"\"\u001b[39;00m\n\u001b[32m    667\u001b[39m torch._C._log_api_usage_once(\u001b[33m\"\u001b[39m\u001b[33mtensorboard.logging.add_images\u001b[39m\u001b[33m\"\u001b[39m)\n\u001b[32m    668\u001b[39m \u001b[38;5;28mself\u001b[39m._get_file_writer().add_summary(\n\u001b[32m--> \u001b[39m\u001b[32m669\u001b[39m     \u001b[43mimage\u001b[49m\u001b[43m(\u001b[49m\u001b[43mtag\u001b[49m\u001b[43m,\u001b[49m\u001b[43m \u001b[49m\u001b[43mimg_tensor\u001b[49m\u001b[43m,\u001b[49m\u001b[43m \u001b[49m\u001b[43mdataformats\u001b[49m\u001b[43m=\u001b[49m\u001b[43mdataformats\u001b[49m\u001b[43m)\u001b[49m, global_step, walltime\n\u001b[32m    670\u001b[39m )\n",
      "\u001b[36mFile \u001b[39m\u001b[32m/mnt/nvme0n1p6/myProjects/neuralNetworks/basicNNWithPytorch/.venv/lib/python3.13/site-packages/torch/utils/tensorboard/summary.py:572\u001b[39m, in \u001b[36mimage\u001b[39m\u001b[34m(tag, tensor, rescale, dataformats)\u001b[39m\n\u001b[32m    545\u001b[39m \u001b[38;5;250m\u001b[39m\u001b[33;03m\"\"\"Output a `Summary` protocol buffer with images.\u001b[39;00m\n\u001b[32m    546\u001b[39m \n\u001b[32m    547\u001b[39m \u001b[33;03mThe summary has up to `max_images` summary values containing images. The\u001b[39;00m\n\u001b[32m   (...)\u001b[39m\u001b[32m    569\u001b[39m \u001b[33;03m  buffer.\u001b[39;00m\n\u001b[32m    570\u001b[39m \u001b[33;03m\"\"\"\u001b[39;00m\n\u001b[32m    571\u001b[39m tensor = make_np(tensor)\n\u001b[32m--> \u001b[39m\u001b[32m572\u001b[39m tensor = \u001b[43mconvert_to_HWC\u001b[49m\u001b[43m(\u001b[49m\u001b[43mtensor\u001b[49m\u001b[43m,\u001b[49m\u001b[43m \u001b[49m\u001b[43mdataformats\u001b[49m\u001b[43m)\u001b[49m\n\u001b[32m    573\u001b[39m \u001b[38;5;66;03m# Do not assume that user passes in values in [0, 255], use data type to detect\u001b[39;00m\n\u001b[32m    574\u001b[39m scale_factor = _calc_scale_factor(tensor)\n",
      "\u001b[36mFile \u001b[39m\u001b[32m/mnt/nvme0n1p6/myProjects/neuralNetworks/basicNNWithPytorch/.venv/lib/python3.13/site-packages/torch/utils/tensorboard/_utils.py:104\u001b[39m, in \u001b[36mconvert_to_HWC\u001b[39m\u001b[34m(tensor, input_format)\u001b[39m\n\u001b[32m    100\u001b[39m \u001b[38;5;28;01mdef\u001b[39;00m\u001b[38;5;250m \u001b[39m\u001b[34mconvert_to_HWC\u001b[39m(tensor, input_format):  \u001b[38;5;66;03m# tensor: numpy array\u001b[39;00m\n\u001b[32m    101\u001b[39m     \u001b[38;5;28;01massert\u001b[39;00m \u001b[38;5;28mlen\u001b[39m(\u001b[38;5;28mset\u001b[39m(input_format)) == \u001b[38;5;28mlen\u001b[39m(\n\u001b[32m    102\u001b[39m         input_format\n\u001b[32m    103\u001b[39m     ), \u001b[33mf\u001b[39m\u001b[33m\"\u001b[39m\u001b[33mYou can not use the same dimension shordhand twice.         input_format: \u001b[39m\u001b[38;5;132;01m{\u001b[39;00minput_format\u001b[38;5;132;01m}\u001b[39;00m\u001b[33m\"\u001b[39m\n\u001b[32m--> \u001b[39m\u001b[32m104\u001b[39m     \u001b[38;5;28;01massert\u001b[39;00m \u001b[38;5;28mlen\u001b[39m(tensor.shape) == \u001b[38;5;28mlen\u001b[39m(\n\u001b[32m    105\u001b[39m         input_format\n\u001b[32m    106\u001b[39m     ), \u001b[33mf\u001b[39m\u001b[33m\"\u001b[39m\u001b[33msize of input tensor and input format are different. \u001b[39m\u001b[38;5;130;01m\\\u001b[39;00m\n\u001b[32m    107\u001b[39m \u001b[33m        tensor shape: \u001b[39m\u001b[38;5;132;01m{\u001b[39;00mtensor.shape\u001b[38;5;132;01m}\u001b[39;00m\u001b[33m, input_format: \u001b[39m\u001b[38;5;132;01m{\u001b[39;00minput_format\u001b[38;5;132;01m}\u001b[39;00m\u001b[33m\"\u001b[39m\n\u001b[32m    108\u001b[39m     input_format = input_format.upper()\n\u001b[32m    110\u001b[39m     \u001b[38;5;28;01mif\u001b[39;00m \u001b[38;5;28mlen\u001b[39m(input_format) == \u001b[32m4\u001b[39m:\n",
      "\u001b[31mAssertionError\u001b[39m: size of input tensor and input format are different.         tensor shape: (3, 242, 242), input_format: NCHW"
     ]
    }
   ],
   "source": [
    "writer = SummaryWriter('runs/mnist_exp_1')\n",
    "\n",
    "images, labels = next(iter(test_dataloader))\n",
    "\n",
    "grid = torchvision.utils.make_grid(images)\n",
    "writer.add_images('Mnist digits:', grid)\n",
    "writer.flush()"
   ]
  }
 ],
 "metadata": {
  "kernelspec": {
   "display_name": ".venv",
   "language": "python",
   "name": "python3"
  },
  "language_info": {
   "codemirror_mode": {
    "name": "ipython",
    "version": 3
   },
   "file_extension": ".py",
   "mimetype": "text/x-python",
   "name": "python",
   "nbconvert_exporter": "python",
   "pygments_lexer": "ipython3",
   "version": "3.13.2"
  }
 },
 "nbformat": 4,
 "nbformat_minor": 2
}
